{
 "cells": [
  {
   "cell_type": "markdown",
   "metadata": {},
   "source": [
    "# Turn your Raspberry Pi as Smart Home Control Center and integrate with IFTTT and Alexa \n",
    "@Author - Kai Ching Siu, Charlie, 2017\n",
    "\n",
    "## Introduction\n",
    "This notebook is to illustrate how to turn the Raspberry Pi to smart home control center. In the following section we will show you how we can use the Pi to control the heater based on the temperature. we will also integrate with IFTTT to enable your rasberry talks to others Apps such as Alexa to provide voice control over your Pi. Cosnider the following scenario:\n",
    "\n",
    "1. If the room temperate drops to 20 degree, turn on the heater until it goes up to 26 degree\n",
    "2. Voice command using Alexa Echo Dot - \"Alexa, trigger the fan\"\n",
    "\n",
    "\n",
    "## Hardware \n",
    "Raspberry Pi 3\n",
    "Pi Sense Hat (Temperature module) at https://www.raspberrypi.org/products/sense-hat/\n",
    "Irdroid-Rpi infrared Transceiver at http://www.irdroid.com/irdroid-rpi-infrared-transceiver/\n",
    "Amazon Echo Dot (If you want to use voice control)\n",
    "\n",
    "## Raspberry Library Installation\n",
    "### 1. Install lirc\n",
    "Do enable the Raspberry PI sending infra-red signal we need to install lirc. \n",
    "\n",
    "```bash\n",
    "sudo apt-get install lirc\n",
    "```\n",
    "https://www.hackster.io/austin-stanton/creating-a-raspberry-pi-universal-remote-with-lirc-2fd581\n",
    "\n",
    "### 2. Install flask\n",
    "Flask is a python web framework that enables you to implement a RestFul web server in a very simple way\n",
    "\n",
    "```bash\n",
    "pip install flask\n",
    "```\n",
    "\n",
    "## Setup\n",
    "### 1. Infra-red lirc setup\n",
    "\n",
    "#### learn the infra-red signal\n",
    "\n",
    "#### test infrared command\n",
    "\n",
    "### 2. Web server setup\n",
    "\n",
    "#### Testing RESTFul Request\n",
    "\n",
    "### 3. Integrate with IFTTT\n",
    "We use the IFTTT Maker service to integrate with our PI. Maker service is a simple web request server that allow other service, such as Alexa, to send a webrequest to your Rasberry PI\n",
    "\n",
    "In order to acheive it you must set your web server internet accessible. Port forward is needed in this case. \n",
    "\n",
    "\n",
    "\n",
    "\n",
    "\n"
   ]
  },
  {
   "cell_type": "markdown",
   "metadata": {},
   "source": []
  },
  {
   "cell_type": "code",
   "execution_count": null,
   "metadata": {
    "collapsed": true
   },
   "outputs": [],
   "source": []
  }
 ],
 "metadata": {
  "kernelspec": {
   "display_name": "Python 3",
   "language": "python",
   "name": "python3"
  },
  "language_info": {
   "codemirror_mode": {
    "name": "ipython",
    "version": 3
   },
   "file_extension": ".py",
   "mimetype": "text/x-python",
   "name": "python",
   "nbconvert_exporter": "python",
   "pygments_lexer": "ipython3",
   "version": "3.6.3"
  }
 },
 "nbformat": 4,
 "nbformat_minor": 2
}
